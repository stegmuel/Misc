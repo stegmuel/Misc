{
 "cells": [
  {
   "cell_type": "markdown",
   "metadata": {},
   "source": [
    "# Dynamic programming"
   ]
  },
  {
   "attachments": {},
   "cell_type": "markdown",
   "metadata": {},
   "source": [
    "## Fibonacci"
   ]
  },
  {
   "cell_type": "code",
   "execution_count": 21,
   "metadata": {},
   "outputs": [
    {
     "name": "stdout",
     "output_type": "stream",
     "text": [
      "34\n",
      "34\n",
      "34\n"
     ]
    }
   ],
   "source": [
    "# Naive reccursive method (exponential time)\n",
    "def Fib(n):\n",
    "    if(n == 1 or n == 2):\n",
    "        return 1\n",
    "    else:\n",
    "        return Fib(n-1) + Fib(n-2)\n",
    "    \n",
    "# Memoize Fibonacci\n",
    "# Each value is computed exactly one thus the complexity is O(n)\n",
    "# The space complexity is also O(n)\n",
    "def memFib(n):\n",
    "    array = [None]*n\n",
    "    array[0] = 1\n",
    "    array[1] = 1\n",
    "    memFibAux(array, n)\n",
    "    \n",
    "    return array[n-1]\n",
    "\n",
    "def memFibAux(r, n):\n",
    "    if(r[n-1] is not None):\n",
    "        return r[n-1]\n",
    "    else:\n",
    "        ans = memFibAux(r, n-1) + memFibAux(r, n-2)\n",
    "        r[n-1] = ans\n",
    "        return r[n-1]\n",
    "    \n",
    "# Time complexity : O(n)\n",
    "# Space complexity : O(1)\n",
    "def bottomUpFib(n):\n",
    "    acc1 = 0\n",
    "    acc2 = 1\n",
    "    \n",
    "    for i in range(n-1):\n",
    "        tmp = acc1\n",
    "        acc1 = acc2\n",
    "        acc2 = acc2 + tmp\n",
    "    \n",
    "    return acc2\n",
    "    \n",
    "if __name__ == \"__main__\":\n",
    "    print(Fib(9))\n",
    "    print(memFib(9))\n",
    "    print(bottomUpFib(9))\n",
    "    "
   ]
  },
  {
   "cell_type": "code",
   "execution_count": null,
   "metadata": {},
   "outputs": [],
   "source": []
  }
 ],
 "metadata": {
  "kernelspec": {
   "display_name": "Python 3",
   "language": "python",
   "name": "python3"
  },
  "language_info": {
   "codemirror_mode": {
    "name": "ipython",
    "version": 3
   },
   "file_extension": ".py",
   "mimetype": "text/x-python",
   "name": "python",
   "nbconvert_exporter": "python",
   "pygments_lexer": "ipython3",
   "version": "3.6.7"
  }
 },
 "nbformat": 4,
 "nbformat_minor": 2
}
