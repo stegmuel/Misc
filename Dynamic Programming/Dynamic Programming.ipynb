{
 "cells": [
  {
   "cell_type": "markdown",
   "metadata": {},
   "source": [
    "# Dynamic programming"
   ]
  },
  {
   "attachments": {},
   "cell_type": "markdown",
   "metadata": {},
   "source": [
    "## Fibonacci"
   ]
  },
  {
   "cell_type": "code",
   "execution_count": 1,
   "metadata": {},
   "outputs": [],
   "source": [
    "import numpy as np"
   ]
  },
  {
   "cell_type": "code",
   "execution_count": 2,
   "metadata": {},
   "outputs": [
    {
     "name": "stdout",
     "output_type": "stream",
     "text": [
      "34\n",
      "34\n",
      "34\n"
     ]
    }
   ],
   "source": [
    "# Naive reccursive method (exponential time)\n",
    "def Fib(n):\n",
    "    if(n == 1 or n == 2):\n",
    "        return 1\n",
    "    else:\n",
    "        return Fib(n-1) + Fib(n-2)\n",
    "    \n",
    "# Memoize Fibonacci\n",
    "# Each value is computed exactly one thus the complexity is O(n)\n",
    "# The space complexity is also O(n)\n",
    "def memFib(n):\n",
    "    array = [None]*n\n",
    "    array[0] = 1\n",
    "    array[1] = 1\n",
    "    memFibAux(array, n)\n",
    "    \n",
    "    return array[n-1]\n",
    "\n",
    "def memFibAux(r, n):\n",
    "    if(r[n-1] is not None):\n",
    "        return r[n-1]\n",
    "    else:\n",
    "        ans = memFibAux(r, n-1) + memFibAux(r, n-2)\n",
    "        r[n-1] = ans\n",
    "        return r[n-1]\n",
    "    \n",
    "# Time complexity : O(n)\n",
    "# Space complexity : O(1)\n",
    "def bottomUpFib(n):\n",
    "    acc1 = 0\n",
    "    acc2 = 1\n",
    "    \n",
    "    for i in range(n-1):\n",
    "        tmp = acc1\n",
    "        acc1 = acc2\n",
    "        acc2 = acc2 + tmp\n",
    "    \n",
    "    return acc2\n",
    "    \n",
    "if __name__ == \"__main__\":\n",
    "    print(Fib(9))\n",
    "    print(memFib(9))\n",
    "    print(bottomUpFib(9))\n",
    "    "
   ]
  },
  {
   "cell_type": "markdown",
   "metadata": {},
   "source": [
    "## Ugly numbers"
   ]
  },
  {
   "cell_type": "code",
   "execution_count": 3,
   "metadata": {},
   "outputs": [
    {
     "name": "stdout",
     "output_type": "stream",
     "text": [
      "24\n",
      "24\n"
     ]
    }
   ],
   "source": [
    "# An ugly number is define as a number that can be written : n = 2**i * 3**j * 5**k\n",
    "\n",
    "# Returns True if n is an ugly number, False otherwise\n",
    "# Worst time running to determine is O(log(n))\n",
    "def checkUglyNumber(n):\n",
    "    if(n == 1):\n",
    "        return True\n",
    "    if(n%2 == 0):\n",
    "        return checkUglyNumber(n/2)\n",
    "    elif(n%3 == 0):\n",
    "        return checkUglyNumber(n/3)\n",
    "    elif(n%5 == 0):\n",
    "        return checkUglyNumber(n/5)\n",
    "    else:\n",
    "        return False\n",
    "\n",
    "def uglyNumber(n):\n",
    "    array = [None]*n\n",
    "    i=1\n",
    "    cnt = 0\n",
    "    while(cnt < n):\n",
    "        if(checkUglyNumber(i)):\n",
    "            array[cnt] = i\n",
    "            cnt += 1 \n",
    "        i += 1\n",
    "        \n",
    "    return array[n-1]\n",
    "# Time complexity: O(n)\n",
    "# Space complexity: O(n)\n",
    "def dynamicUglyNumber(n):\n",
    "    #array = [None]*n\n",
    "    array = []\n",
    "    array = np.array(array)\n",
    "  \n",
    "    m2 = 2\n",
    "    m3 = 3\n",
    "    m5 = 5\n",
    "    m2_cnt = 0\n",
    "    m3_cnt = 0\n",
    "    m5_cnt = 0\n",
    "    \n",
    "    i = 0\n",
    "    array = np.append(array, 1)\n",
    "    \n",
    "    while(np.size(array) < n):\n",
    "        min_m = min(m2, m3, m5)\n",
    "        if(min_m == m2):\n",
    "            array, m2_cnt = merge(array, m2_cnt, min_m)\n",
    "            m2 = array[m2_cnt]*2\n",
    "        elif(min_m == m3):\n",
    "            (array, m3_cnt) = merge(array, m3_cnt, min_m)\n",
    "            m3 = array[m3_cnt]*3\n",
    "        elif(min_m == m5):\n",
    "            (array, m5_cnt) = merge(array, m5_cnt, min_m)\n",
    "            m5 = array[m5_cnt]*5\n",
    "                \n",
    "    return(int(array[n-1]))\n",
    "     \n",
    "def merge(array, index, data):\n",
    "    if(array[-1] < data):\n",
    "        array = np.append(array, data)\n",
    "        index += 1\n",
    "        return (array, index)\n",
    "    else:\n",
    "        index += 1\n",
    "        return (array, index)\n",
    "\n",
    "\n",
    "\n",
    "if __name__ == \"__main__\":\n",
    "    print(uglyNumber(15))\n",
    "    print(dynamicUglyNumber(15))\n",
    "    "
   ]
  },
  {
   "cell_type": "markdown",
   "metadata": {},
   "source": [
    "## Coin change problem"
   ]
  },
  {
   "cell_type": "code",
   "execution_count": 11,
   "metadata": {},
   "outputs": [
    {
     "name": "stdout",
     "output_type": "stream",
     "text": [
      "4\n"
     ]
    }
   ],
   "source": [
    "def coinChange(currencyList, total):\n",
    "    if(total == 0):\n",
    "        return 1\n",
    "    elif(total < 0):\n",
    "        return 0\n",
    "    elif(not currencyList):\n",
    "        return 0\n",
    "    else:\n",
    "        return coinChange(currencyList, total-currencyList[0]) + coinChange(currencyList[1:], total)\n",
    "\n",
    "def coinChange\n",
    "    \n",
    "if __name__ == \"__main__\":\n",
    "    currencies = [1,2,3]\n",
    "    N = 4\n",
    "    \n",
    "    print(coinChange(currencies, N))\n",
    "    "
   ]
  },
  {
   "cell_type": "code",
   "execution_count": null,
   "metadata": {},
   "outputs": [],
   "source": []
  }
 ],
 "metadata": {
  "kernelspec": {
   "display_name": "Python 3",
   "language": "python",
   "name": "python3"
  },
  "language_info": {
   "codemirror_mode": {
    "name": "ipython",
    "version": 3
   },
   "file_extension": ".py",
   "mimetype": "text/x-python",
   "name": "python",
   "nbconvert_exporter": "python",
   "pygments_lexer": "ipython3",
   "version": "3.6.7"
  }
 },
 "nbformat": 4,
 "nbformat_minor": 2
}
